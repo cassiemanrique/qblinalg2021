{
 "cells": [
  {
   "cell_type": "code",
   "execution_count": 17,
   "metadata": {},
   "outputs": [
    {
     "data": {
      "image/png": "[encoded data removed]",
      "text/plain": [
       "<Figure size 432x432 with 1 Axes>"
      ]
     },
     "metadata": {
      "needs_background": "light"
     },
     "output_type": "display_data"
    }
   ],
   "source": [
    "import matplotlib.pyplot as plt\n",
    "import matplotlib.patches as mpatches\n",
    "from mpl_toolkits.mplot3d import Axes3D\n",
    "import numpy as np\n",
    "\n",
    "og_vec=np.array([5,9]) #the original vector\n",
    "transform=np.array([[5,-3],[-2,1]]) #the vector we want to multiply by (aka the A matrix)\n",
    "\n",
    "new_vec=np.matmul(og_vec,transform)\n",
    "\n",
    "origin=np.zeros(og_vec.shape)\n",
    "\n",
    "plt.figure(figsize=(6,6))\n",
    "plt.quiver(*origin,*og_vec,color=[\"pink\"],scale=1,units=\"xy\")\n",
    "plt.quiver(*origin,*new_vec,color=[\"green\"],scale=1,units=\"xy\")\n",
    "plt.grid()\n",
    "plt.xlim(-10,10)\n",
    "plt.ylim(-10,10)\n",
    "plt.gca()\n",
    "\n",
    "v1=mpatches.Patch(color=\"pink\",label=\"Original Vector\")\n",
    "v2=mpatches.Patch(color=\"green\",label=\"Transformed Vector\")\n",
    "plt.legend(handles=[v1,v2],loc=\"lower right\")\n",
    "plt.show()"
   ]
  },
  {
   "cell_type": "code",
   "execution_count": 18,
   "metadata": {},
   "outputs": [
    {
     "name": "stdout",
     "output_type": "stream",
     "text": [
      "[ 7 -6]\n"
     ]
    }
   ],
   "source": [
    "print(new_vec)"
   ]
  },
  {
   "cell_type": "code",
   "execution_count": 19,
   "metadata": {},
   "outputs": [],
   "source": [
    "def find_inverse(a,b,c,d):\n",
    "    #given the input matrix is -> matrix_A=np.array([[a,c],[b,d]])\n",
    "    fraction=1/((a*d)-(b*c))\n",
    "    mult_array=np.array([[d,-c],[-b,a]])\n",
    "    matrix_Aminus1=fraction*mult_array\n",
    "    return(matrix_Aminus1)\n"
   ]
  },
  {
   "cell_type": "code",
   "execution_count": 20,
   "metadata": {},
   "outputs": [
    {
     "data": {
      "text/plain": [
       "array([[-1., -3.],\n",
       "       [-2., -5.]])"
      ]
     },
     "execution_count": 20,
     "metadata": {},
     "output_type": "execute_result"
    }
   ],
   "source": [
    "find_inverse(5,-2,-3,1)"
   ]
  },
  {
   "cell_type": "code",
   "execution_count": 33,
   "metadata": {},
   "outputs": [
    {
     "data": {
      "image/png": "[encoded data removed]",
      "text/plain": [
       "<Figure size 432x432 with 1 Axes>"
      ]
     },
     "metadata": {
      "needs_background": "light"
     },
     "output_type": "display_data"
    }
   ],
   "source": [
    "vec=np.array([2,1]) \n",
    "ihat=np.array([1,0]) \n",
    "jhat=np.array([0,1])\n",
    "origin=np.zeros(ihat.shape)\n",
    "\n",
    "plt.figure(figsize=(6,6))\n",
    "plt.quiver(*origin,*ihat,color=[\"blue\"],scale=1,units=\"xy\")\n",
    "plt.quiver(*origin,*jhat,color=[\"red\"],scale=1,units=\"xy\")\n",
    "plt.quiver(*origin,*vec,color=[\"orange\"],scale=1,units=\"xy\")\n",
    "plt.grid()\n",
    "plt.xlim(-4,4)\n",
    "plt.ylim(-4,4)\n",
    "plt.gca()\n",
    "\n",
    "v1=mpatches.Patch(color=\"blue\",label=\"i\")\n",
    "v2=mpatches.Patch(color=\"red\",label=\"j\")\n",
    "plt.legend(handles=[v1,v2],loc=\"lower right\")\n",
    "plt.show()"
   ]
  },
  {
   "cell_type": "code",
   "execution_count": 34,
   "metadata": {},
   "outputs": [
    {
     "data": {
      "image/png": "[encoded data removed]",
      "text/plain": [
       "<Figure size 432x432 with 1 Axes>"
      ]
     },
     "metadata": {
      "needs_background": "light"
     },
     "output_type": "display_data"
    }
   ],
   "source": [
    "ihat=np.array([1,1]) \n",
    "jhat=np.array([-1,1])\n",
    "transform=np.array([[1,1],[-1,1]])\n",
    "new_vec=np.matmul(vec,transform)\n",
    "origin=np.zeros(ihat.shape)\n",
    "\n",
    "plt.figure(figsize=(6,6))\n",
    "plt.quiver(*origin,*ihat,color=[\"blue\"],scale=1,units=\"xy\")\n",
    "plt.quiver(*origin,*jhat,color=[\"red\"],scale=1,units=\"xy\")\n",
    "plt.quiver(*origin,*new_vec,color=[\"orange\"],scale=1,units=\"xy\")\n",
    "plt.grid()\n",
    "plt.xlim(-4,4)\n",
    "plt.ylim(-4,4)\n",
    "plt.gca()\n",
    "\n",
    "v1=mpatches.Patch(color=\"blue\",label=\"i\")\n",
    "v2=mpatches.Patch(color=\"red\",label=\"j\")\n",
    "plt.legend(handles=[v1,v2],loc=\"lower right\")\n",
    "plt.show()"
   ]
  },
  {
   "cell_type": "code",
   "execution_count": null,
   "metadata": {},
   "outputs": [],
   "source": []
  }
 ],
 "metadata": {
  "kernelspec": {
   "display_name": "Python 3",
   "language": "python",
   "name": "python3"
  },
  "language_info": {
   "codemirror_mode": {
    "name": "ipython",
    "version": 3
   },
   "file_extension": ".py",
   "mimetype": "text/x-python",
   "name": "python",
   "nbconvert_exporter": "python",
   "pygments_lexer": "ipython3",
   "version": "3.8.5"
  }
 },
 "nbformat": 4,
 "nbformat_minor": 4
}
